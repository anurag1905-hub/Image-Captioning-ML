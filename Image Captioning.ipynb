{
 "cells": [
  {
   "cell_type": "markdown",
   "id": "1a9c04e3",
   "metadata": {},
   "source": [
    "## Load the Data"
   ]
  },
  {
   "cell_type": "code",
   "execution_count": null,
   "id": "2707bf6e",
   "metadata": {},
   "outputs": [],
   "source": [
    "# Read Text Captions.\n",
    "def readTextFile(path):\n",
    "   with open(path) as f:\n",
    "       captions = f.read()\n",
    "   return captions\n",
    "\n",
    "captions = readTextFile(\"./Data/archive/Flickr_Data/Flickr_Data/Flickr_TextData/Flickr8k.token.txt\")\n",
    "#captions.split(\"\\n\") --> splits the captions about a new line character.\n",
    "captions = captions.split(\"\\n\")[:-1] # [:-1] removes the last line. The last line was empty so we removed it.\n",
    "len(captions)  "
   ]
  },
  {
   "cell_type": "code",
   "execution_count": null,
   "id": "52b570a5",
   "metadata": {},
   "outputs": [],
   "source": [
    "# Dictionary to map each Image with the list of  captions it has.\n"
   ]
  },
  {
   "cell_type": "code",
   "execution_count": null,
   "id": "64b58318",
   "metadata": {},
   "outputs": [],
   "source": [
    "descriptions = {}\n",
    "\n",
    "for x in captions:\n",
    "    first,second = x.split('\\t')\n",
    "    img_name = first.split('.')[0]\n",
    "    if descriptions.get(img_name) is None:\n",
    "        descriptions[img_name] = []\n",
    "    descriptions[img_name].append(second)\n",
    "        "
   ]
  },
  {
   "cell_type": "code",
   "execution_count": null,
   "id": "5bf2b5dd",
   "metadata": {},
   "outputs": [],
   "source": [
    "descriptions[\"1000268201_693b08cb0e\"]"
   ]
  },
  {
   "cell_type": "code",
   "execution_count": null,
   "id": "665a6f72",
   "metadata": {},
   "outputs": [],
   "source": [
    "# plot Image\n",
    "import matplotlib.pyplot as plt\n",
    "import matplotlib.image as mpimg\n",
    "def plot_image(img):\n",
    "    plt.figure()\n",
    "    plt.imshow(img)\n",
    "    plt.axis(\"off\")\n",
    "    plt.show()\n",
    "    "
   ]
  },
  {
   "cell_type": "code",
   "execution_count": null,
   "id": "6d8da6b6",
   "metadata": {},
   "outputs": [],
   "source": [
    "# Load Images\n",
    "!pip install opencv-python\n",
    "import cv2\n",
    "import os\n",
    "def load_images_from_folder(folder):\n",
    "    images = []\n",
    "    for filename in os.listdir(folder):\n",
    "        img = cv2.imread(os.path.join(folder,filename))\n",
    "        img = cv2.cvtColor(img,cv2.COLOR_BGR2RGB) # Convert BGR Format to RGB.\n",
    "        if img is not None:\n",
    "            images.append(img)\n",
    "    return images"
   ]
  },
  {
   "cell_type": "code",
   "execution_count": null,
   "id": "7b4d08b9",
   "metadata": {},
   "outputs": [],
   "source": [
    "folder = \"./Data/archive/Flickr_Data/Flickr_Data/Images\"\n",
    "images = load_images_from_folder(folder)\n",
    "print(len(images))\n",
    "print(images[0])"
   ]
  },
  {
   "cell_type": "code",
   "execution_count": null,
   "id": "22cab46c",
   "metadata": {},
   "outputs": [],
   "source": [
    "for i in range(101):\n",
    "    plot_image(images[i])"
   ]
  },
  {
   "cell_type": "code",
   "execution_count": null,
   "id": "b3712366",
   "metadata": {},
   "outputs": [],
   "source": [
    "targetImage = cv2.imread(os.path.join(folder,\"1000268201_693b08cb0e.jpg\"))\n",
    "targetImage = cv2.cvtColor(targetImage,cv2.COLOR_BGR2RGB) # Convert BGR Format to RGB\n",
    "plot_image(targetImage)"
   ]
  },
  {
   "cell_type": "markdown",
   "id": "28b7c747",
   "metadata": {},
   "source": [
    "### Data Cleaning"
   ]
  },
  {
   "cell_type": "code",
   "execution_count": null,
   "id": "07e531e1",
   "metadata": {},
   "outputs": [],
   "source": [
    "import re"
   ]
  },
  {
   "cell_type": "code",
   "execution_count": null,
   "id": "cad1eab2",
   "metadata": {},
   "outputs": [],
   "source": [
    "def clean_text(sentence):\n",
    "    sentence = sentence.lower()\n",
    "    sentence = re.sub(\"[^a-z]+\",\" \",sentence)  #Replace every occurence of non alphabetical letters with a space.\n",
    "    sentence = sentence.split() # Split the sentence into words\n",
    "    \n",
    "    sentence = [s for s in sentence if len(s)>1] # Remove words whose length = 1.\n",
    "    sentence = \" \".join(sentence) # Combines the words back to form a sentence.\n",
    "    \n",
    "    return sentence"
   ]
  },
  {
   "cell_type": "code",
   "execution_count": null,
   "id": "f951084f",
   "metadata": {},
   "outputs": [],
   "source": [
    "clean_text(\"A cat is sitting over the house number 64\")"
   ]
  },
  {
   "cell_type": "code",
   "execution_count": null,
   "id": "f5c82122",
   "metadata": {},
   "outputs": [],
   "source": [
    "# Clean all captions"
   ]
  },
  {
   "cell_type": "code",
   "execution_count": null,
   "id": "1a1d5df3",
   "metadata": {},
   "outputs": [],
   "source": [
    "for key,caption_list in descriptions.items():\n",
    "    for i in range(len(caption_list)):\n",
    "        caption_list[i] = clean_text(caption_list[i])"
   ]
  },
  {
   "cell_type": "code",
   "execution_count": null,
   "id": "cc41588e",
   "metadata": {},
   "outputs": [],
   "source": [
    "descriptions[\"1000268201_693b08cb0e\"]"
   ]
  },
  {
   "cell_type": "code",
   "execution_count": null,
   "id": "0be889ab",
   "metadata": {},
   "outputs": [],
   "source": [
    "# Write the data to text file so that we dont have to do the above steps again and again.\n",
    "f = open(\"descriptions.txt\",\"w\")\n",
    "f.write(str(descriptions))\n",
    "f.close()"
   ]
  },
  {
   "cell_type": "markdown",
   "id": "4fa63192",
   "metadata": {},
   "source": [
    "## Create a Vocabulary(Set of all unique words which our model can predict)"
   ]
  },
  {
   "cell_type": "code",
   "execution_count": null,
   "id": "ec659ba4",
   "metadata": {},
   "outputs": [],
   "source": [
    "import json"
   ]
  },
  {
   "cell_type": "code",
   "execution_count": null,
   "id": "fc3d9afc",
   "metadata": {},
   "outputs": [],
   "source": [
    "descriptions = None\n",
    "# Load back the data we stored earlier from our text file.\n",
    "with open(\"descriptions.txt\",'r') as f:\n",
    "    descriptions = f.read()\n",
    "\n",
    "# Interprets descriptions as a json file and converts it into a python dictionary.\n",
    "json_acceptable_string = descriptions.replace(\"'\",\"\\\"\") # Replace Single quotes with double quotes.\n",
    "descriptions = json.loads(json_acceptable_string)\n",
    "print(type(descriptions))\n",
    "    "
   ]
  },
  {
   "cell_type": "code",
   "execution_count": null,
   "id": "5084b2b7",
   "metadata": {},
   "outputs": [],
   "source": [
    "vocab = set()\n",
    "vocab.update([\"hello\",\"apple\"])\n",
    "vocab.update([\"hello\",\"hii\",\"Mango\"])\n",
    "vocab.update([\"hi\"])\n",
    "print(vocab)"
   ]
  },
  {
   "cell_type": "code",
   "execution_count": null,
   "id": "ab16b6fc",
   "metadata": {},
   "outputs": [],
   "source": [
    "#Vocab\n",
    "vocab = set()\n",
    "for key in descriptions.keys():\n",
    "    [vocab.update(sentence.split()) for sentence in descriptions[key]]\n",
    "    \n",
    "len(vocab)\n",
    "    "
   ]
  },
  {
   "cell_type": "code",
   "execution_count": null,
   "id": "ffb8242e",
   "metadata": {},
   "outputs": [],
   "source": [
    "# Total No of words across all the sentences.\n",
    "total_words = []"
   ]
  },
  {
   "cell_type": "code",
   "execution_count": null,
   "id": "7cb522c9",
   "metadata": {},
   "outputs": [],
   "source": [
    "for key in descriptions.keys():\n",
    "    for sentence in descriptions[key]:\n",
    "        temp = sentence.split()\n",
    "        for word in temp:\n",
    "            total_words.append(word)\n",
    "        \n",
    "print(len(total_words))"
   ]
  },
  {
   "cell_type": "code",
   "execution_count": null,
   "id": "af61733e",
   "metadata": {},
   "outputs": [],
   "source": [
    "# Filter words whose frequency is >10.\n",
    "count_frequency = {}\n",
    "for word in total_words:\n",
    "    if word not in count_frequency:\n",
    "        count_frequency[word] = 1\n",
    "    else:\n",
    "        count_frequency[word]+=1\n",
    "\n",
    "\n",
    "final_words = []\n",
    "for key,value in count_frequency.items():\n",
    "    if value>10:\n",
    "        final_words.append(key)\n",
    "        \n",
    "print(len(final_words))"
   ]
  },
  {
   "cell_type": "markdown",
   "id": "f19470a7",
   "metadata": {},
   "source": [
    "## Prepare Train/Test Data"
   ]
  },
  {
   "cell_type": "code",
   "execution_count": null,
   "id": "d3a39d36",
   "metadata": {},
   "outputs": [],
   "source": [
    "train_file_data = readTextFile(\"./Data/archive/Flickr_Data/Flickr_Data/Flickr_TextData/Flickr_8k.trainImages.txt\")\n",
    "test_file_data = readTextFile(\"./Data/archive/Flickr_Data/Flickr_Data/Flickr_TextData/Flickr_8k.testImages.txt\")"
   ]
  },
  {
   "cell_type": "code",
   "execution_count": null,
   "id": "2b988f4e",
   "metadata": {},
   "outputs": [],
   "source": [
    "train_file_data[-1] # Last Row is null."
   ]
  },
  {
   "cell_type": "code",
   "execution_count": null,
   "id": "559a46f2",
   "metadata": {},
   "outputs": [],
   "source": [
    "train = []\n",
    "test = []\n",
    "for row in train_file_data.split(\"\\n\")[:-1]:\n",
    "    train.append(row.split(\".\")[0])\n",
    "    \n",
    "for row in test_file_data.split(\"\\n\")[:-1]:\n",
    "    test.append(row.split(\".\")[0])\n",
    "    \n",
    "print(len(train))\n",
    "print(len(test))"
   ]
  },
  {
   "cell_type": "code",
   "execution_count": null,
   "id": "d1d9350b",
   "metadata": {},
   "outputs": [],
   "source": [
    "# Prepare Description for the training data\n",
    "# Tweak - Add <s> and <e> token to our training data."
   ]
  },
  {
   "cell_type": "code",
   "execution_count": null,
   "id": "6aa445ce",
   "metadata": {},
   "outputs": [],
   "source": [
    "train_descriptions = {}\n",
    "for img_id in train:\n",
    "    train_descriptions[img_id] = [] \n",
    "    for caption in descriptions[img_id]:\n",
    "        caption_to_append = \"startseq \" + caption + \" endseq\"\n",
    "        train_descriptions[img_id].append(caption_to_append)\n"
   ]
  },
  {
   "cell_type": "code",
   "execution_count": null,
   "id": "0ca61c98",
   "metadata": {},
   "outputs": [],
   "source": [
    "train_descriptions[\"1000268201_693b08cb0e\"]"
   ]
  },
  {
   "cell_type": "markdown",
   "id": "f32e2d40",
   "metadata": {},
   "source": [
    "## Transfer Learning\n",
    "* Convert Images to Features\n",
    "* Convert Text to Features"
   ]
  },
  {
   "cell_type": "markdown",
   "id": "1f6a2df1",
   "metadata": {},
   "source": [
    "### Image Feature Extraction"
   ]
  },
  {
   "cell_type": "code",
   "execution_count": null,
   "id": "787b9b8a",
   "metadata": {},
   "outputs": [],
   "source": [
    "from tensorflow.keras.applications.resnet50 import ResNet50\n",
    "from tensorflow.keras.preprocessing import image\n",
    "from tensorflow.keras.applications.resnet50 import preprocess_input, decode_predictions\n",
    "import numpy as np\n",
    "import keras"
   ]
  },
  {
   "cell_type": "code",
   "execution_count": null,
   "id": "161b3f64",
   "metadata": {},
   "outputs": [],
   "source": [
    "model = ResNet50(weights=\"imagenet\",input_shape=(224,224,3))\n",
    "model.summary()"
   ]
  },
  {
   "cell_type": "code",
   "execution_count": null,
   "id": "526a84fb",
   "metadata": {},
   "outputs": [],
   "source": [
    "model.layers[-2]"
   ]
  },
  {
   "cell_type": "code",
   "execution_count": null,
   "id": "d713be0c",
   "metadata": {},
   "outputs": [],
   "source": [
    "model_new = keras.Model(inputs=model.input,outputs=model.layers[-2].output)"
   ]
  },
  {
   "cell_type": "code",
   "execution_count": null,
   "id": "7ca3bbd6",
   "metadata": {},
   "outputs": [],
   "source": [
    "def preprocess_img(img):\n",
    "    img = image.load_img(img,target_size=(224,224))\n",
    "    img = image.img_to_array(img)\n",
    "    img = np.expand_dims(img,axis=0)\n",
    "    \n",
    "    # Normalisation\n",
    "    img = preprocess_input(img)\n",
    "    return img   "
   ]
  },
  {
   "cell_type": "code",
   "execution_count": null,
   "id": "f9df3dd1",
   "metadata": {},
   "outputs": [],
   "source": [
    "img = preprocess_img(\"./Data/archive/Flickr_Data/Flickr_Data/Images/1000268201_693b08cb0e.jpg\")\n",
    "import matplotlib.pyplot as plt\n",
    "plt.imshow(img[0])\n",
    "plt.show()"
   ]
  },
  {
   "cell_type": "code",
   "execution_count": null,
   "id": "f9accdfa",
   "metadata": {},
   "outputs": [],
   "source": [
    "def encode_image(img):\n",
    "    img = preprocess_img(img)\n",
    "    feature_vector = model_new.predict(img) \n",
    "    feature_vector = feature_vector.reshape((-1,)) # # reshape from (1, 2048) to (2048, )\n",
    "    #print(feature_vector.shape)\n",
    "    return feature_vector"
   ]
  },
  {
   "cell_type": "code",
   "execution_count": null,
   "id": "405b22d1",
   "metadata": {},
   "outputs": [],
   "source": [
    "encode_image(\"./Data/archive/Flickr_Data/Flickr_Data/Images/1000268201_693b08cb0e.jpg\")"
   ]
  },
  {
   "cell_type": "code",
   "execution_count": null,
   "id": "48eb3d37",
   "metadata": {},
   "outputs": [],
   "source": [
    "encoding_train = {}\n",
    "# image_id --> feature_vector extracted from Resnet Image\n",
    "\n",
    "for ix,img_id in enumerate(train):\n",
    "    img_path = \"./Data/archive/Flickr_Data/Flickr_Data/Images/\"+img_id+\".jpg\"\n",
    "    encoding_train[img_id] = encode_image(img_path)\n",
    "    \n",
    "    if(ix%100==0):\n",
    "        print(\"Encoding in Progress Time Step %d \"%ix)\n",
    "        "
   ]
  },
  {
   "cell_type": "code",
   "execution_count": null,
   "id": "11f36a89",
   "metadata": {},
   "outputs": [],
   "source": [
    "# Store all the computed features to the disk.\n",
    "import pickle\n",
    "f = open('encoded_train_features.pkl','wb')\n",
    "pickle.dump(encoding_train,f,)\n",
    "f.close()"
   ]
  },
  {
   "cell_type": "code",
   "execution_count": null,
   "id": "6930ffea",
   "metadata": {},
   "outputs": [],
   "source": [
    "encoding_test = {}\n",
    "# image_id --> feature_vector extracted from Resnet Image\n",
    "\n",
    "for ix,img_id in enumerate(test):\n",
    "    img_path = \"./Data/archive/Flickr_Data/Flickr_Data/Images/\"+img_id+\".jpg\"\n",
    "    encoding_test[img_id] = encode_image(img_path)\n",
    "    \n",
    "    if(ix%100==0):\n",
    "        print(\"Encoding in Progress Time Step %d \"%ix)\n",
    "        "
   ]
  },
  {
   "cell_type": "code",
   "execution_count": null,
   "id": "5ac6fa20",
   "metadata": {},
   "outputs": [],
   "source": [
    "# Store all the computed features to the disk.\n",
    "import pickle\n",
    "f = open('encoded_test_features.pkl','wb')\n",
    "pickle.dump(encoding_test,f,)\n",
    "f.close()"
   ]
  },
  {
   "cell_type": "markdown",
   "id": "c2ddf8bd",
   "metadata": {},
   "source": [
    "## Caption Preprocessing"
   ]
  },
  {
   "cell_type": "code",
   "execution_count": null,
   "id": "d3fb70c8",
   "metadata": {},
   "outputs": [],
   "source": [
    "len(final_words)"
   ]
  },
  {
   "cell_type": "code",
   "execution_count": null,
   "id": "19cdc951",
   "metadata": {},
   "outputs": [],
   "source": [
    "word_to_idx = {}\n",
    "idx_to_word = {}\n",
    "for i,word in enumerate(final_words):\n",
    "    word_to_idx[word] = i+1\n",
    "    idx_to_word[i+1] = word"
   ]
  },
  {
   "cell_type": "code",
   "execution_count": null,
   "id": "84612469",
   "metadata": {},
   "outputs": [],
   "source": [
    "idx_to_word[1]"
   ]
  },
  {
   "cell_type": "code",
   "execution_count": null,
   "id": "b19c4596",
   "metadata": {},
   "outputs": [],
   "source": [
    "# Add two special words 'startseq' and 'endseq'\n",
    "idx_to_word[1846] = 'startseq'\n",
    "word_to_idx['startseq'] = 1846\n",
    "idx_to_word[1847] = 'endseq'\n",
    "word_to_idx['endseq'] = 1847\n",
    "\n",
    "vocab_size = len(word_to_idx) + 1 \n",
    "print(\"Vocab Size = \",vocab_size)"
   ]
  },
  {
   "cell_type": "code",
   "execution_count": null,
   "id": "a4494fdf",
   "metadata": {},
   "outputs": [],
   "source": [
    "# Find the maximum length(maxm number of words) of a caption.\n",
    "max_len = 0\n",
    "for key in train_descriptions.keys():\n",
    "    for cap in train_descriptions[key]:\n",
    "        max_len = max(max_len,len(cap.split()))\n",
    "        \n",
    "print(max_len)"
   ]
  },
  {
   "cell_type": "markdown",
   "id": "404bd50e",
   "metadata": {},
   "source": [
    "## Data Loader (Generator)"
   ]
  },
  {
   "cell_type": "code",
   "execution_count": 1,
   "id": "ca169368",
   "metadata": {},
   "outputs": [
    {
     "name": "stdout",
     "output_type": "stream",
     "text": [
      "[1]\n",
      "[1, 2]\n",
      "[1, 2, 3]\n",
      "[1, 2, 3, 4]\n"
     ]
    }
   ],
   "source": [
    "arr = [1,2,3,4,5]\n",
    "for i in range(1,len(arr)):\n",
    "    print(arr[0:i])"
   ]
  },
  {
   "cell_type": "code",
   "execution_count": 4,
   "id": "11da56ab",
   "metadata": {},
   "outputs": [],
   "source": [
    "# Make Custom Data Loader\n",
    "from keras import preprocessing\n",
    "import keras\n",
    "from keras.utils.np_utils import to_categorical\n",
    "\n",
    "def data_generator(train_descriptions,encoding_train,word_to_idx,max_len,batch_size):\n",
    "    X1,X2,y = [],[],[]\n",
    "    n = 0\n",
    "    while True:\n",
    "        for key,desc_list in train_descriptions.items():\n",
    "            n+=1\n",
    "            \n",
    "            photo = encoding_train[key]\n",
    "            for desc in desc_list:\n",
    "                seq = [word_to_idx[word] for word in desc.split() if word in word_to_idx]\n",
    "                for i in range(1,len(seq)):\n",
    "                    xi = seq[0:i]\n",
    "                    yi = seq[i]\n",
    "                    \n",
    "                    #0 denotes padding words.\n",
    "                    xi = preprocessing.sequence.pad_sequences([xi],maxlen=max_len,value=0,padding='post') #[xi] -> it accepts 2D\n",
    "                    xi = xi[0]\n",
    "                    \n",
    "                    yi = to_categorical([yi],num_classes=vocab_size)[0]\n",
    "                    \n",
    "                    X1.append(photo)\n",
    "                    X2.append(xi)\n",
    "                    y.append(yi)\n",
    "                    \n",
    "                if n==batch_size:\n",
    "                    #print(np.array(X1).shape,np.array(X2).shape,np.array(y).shape)\n",
    "                    yield [[np.array(X1),np.array(X2)],np.array(y)]\n",
    "                    X1,X2,y = [],[],[]\n",
    "                    n = 0\n",
    "                    "
   ]
  },
  {
   "cell_type": "code",
   "execution_count": 3,
   "id": "2b67d986",
   "metadata": {},
   "outputs": [],
   "source": [
    "## Word Embeddings"
   ]
  },
  {
   "cell_type": "code",
   "execution_count": null,
   "id": "16ca551f",
   "metadata": {},
   "outputs": [],
   "source": [
    "f = open(\"./saved/glove.6B.50d.txt\",encoding='utf-8')"
   ]
  },
  {
   "cell_type": "code",
   "execution_count": null,
   "id": "5ff563c3",
   "metadata": {},
   "outputs": [],
   "source": [
    "embedding_index = {}\n",
    "\n",
    "for line in f:\n",
    "    values = line.split()\n",
    "    #print(values)\n",
    "    word = values[0]\n",
    "    word_embedding = np.array(values[1:],dtype='float')\n",
    "    embedding_index[word] = word_embedding"
   ]
  },
  {
   "cell_type": "code",
   "execution_count": null,
   "id": "d8d06cdb",
   "metadata": {},
   "outputs": [],
   "source": [
    "f.close()"
   ]
  },
  {
   "cell_type": "code",
   "execution_count": null,
   "id": "936b404e",
   "metadata": {},
   "outputs": [],
   "source": [
    "def get_embedding_matrix():\n",
    "    emb_dim = 50\n",
    "    matrix = np.zeros((vocab_size,emb_dim))\n",
    "    for word,idx in word_to_idx.items():\n",
    "        embedding_vector = embedding_index.get(word)\n",
    "        \n",
    "        if embedding_vector is not None:\n",
    "            matrix[idx] = embedding_vector      \n",
    "    return matrix"
   ]
  },
  {
   "cell_type": "code",
   "execution_count": null,
   "id": "ad744725",
   "metadata": {},
   "outputs": [],
   "source": [
    "embedding_matrix = get_embedding_matrix()"
   ]
  },
  {
   "cell_type": "code",
   "execution_count": null,
   "id": "c5e01adb",
   "metadata": {},
   "outputs": [],
   "source": [
    "print(embedding_matrix.shape)"
   ]
  },
  {
   "cell_type": "code",
   "execution_count": null,
   "id": "6e4771a8",
   "metadata": {},
   "outputs": [],
   "source": [
    "#embedding_matrix[1847] # startseq and endseq are not present in glove embeddings. So, they give 0."
   ]
  },
  {
   "cell_type": "markdown",
   "id": "1ee4898f",
   "metadata": {},
   "source": [
    "## Model Architecture"
   ]
  },
  {
   "cell_type": "code",
   "execution_count": null,
   "id": "b5079286",
   "metadata": {},
   "outputs": [],
   "source": [
    "from tensorflow.keras import layers"
   ]
  },
  {
   "cell_type": "code",
   "execution_count": null,
   "id": "6fd7137e",
   "metadata": {},
   "outputs": [],
   "source": [
    "input_img_features = keras.Input(shape=(2048,))\n",
    "inp_img1 = layers.Dropout(0.3)(input_img_features)\n",
    "inp_img2 = layers.Dense(256,activation='relu')(inp_img1)"
   ]
  },
  {
   "cell_type": "code",
   "execution_count": null,
   "id": "a8bcf815",
   "metadata": {},
   "outputs": [],
   "source": [
    "# Captions as Input\n",
    "input_captions = keras.Input(shape=(max_len,))\n",
    "inp_cap1 = layers.Embedding(input_dim=vocab_size,output_dim=50,mask_zero=True)(input_captions)\n",
    "inp_cap2 = layers.Dropout(0.3)(inp_cap1)\n",
    "inp_cap3 = layers.LSTM(256)(inp_cap2) # 256-> size of output."
   ]
  },
  {
   "cell_type": "code",
   "execution_count": null,
   "id": "1aaf2592",
   "metadata": {},
   "outputs": [],
   "source": [
    "decoder1 = layers.add([inp_img2,inp_cap3]) # Add these two tensors.\n",
    "decoder2 = layers.Dense(256,activation='relu')(decoder1)\n",
    "outputs = layers.Dense(vocab_size,activation='softmax')(decoder2)"
   ]
  },
  {
   "cell_type": "code",
   "execution_count": null,
   "id": "8b6ba0f6",
   "metadata": {},
   "outputs": [],
   "source": [
    "model = keras.Model(inputs=[input_img_features,input_captions],outputs=outputs)"
   ]
  },
  {
   "cell_type": "code",
   "execution_count": null,
   "id": "ce0043e6",
   "metadata": {},
   "outputs": [],
   "source": [
    "model.summary()"
   ]
  },
  {
   "cell_type": "code",
   "execution_count": null,
   "id": "3abe243f",
   "metadata": {},
   "outputs": [],
   "source": [
    "model.layers[2].set_weights([embedding_matrix])\n",
    "model.layers[2].trainable = False"
   ]
  },
  {
   "cell_type": "code",
   "execution_count": null,
   "id": "a12ed72b",
   "metadata": {},
   "outputs": [],
   "source": [
    "model.compile(loss='categorical_crossentropy',optimizer=\"adam\")"
   ]
  },
  {
   "cell_type": "markdown",
   "id": "339d7474",
   "metadata": {},
   "source": [
    "### Training of Model"
   ]
  },
  {
   "cell_type": "code",
   "execution_count": null,
   "id": "df6614de",
   "metadata": {},
   "outputs": [],
   "source": [
    "epochs = 20\n",
    "batch_size = 3\n",
    "steps = len(train_descriptions)//batch_size"
   ]
  },
  {
   "cell_type": "code",
   "execution_count": null,
   "id": "7f79c95a",
   "metadata": {},
   "outputs": [],
   "source": [
    "def train():\n",
    "    for i in range(epochs):\n",
    "        generator = data_generator(train_descriptions,encoding_train,word_to_idx,max_len,batch_size)\n",
    "        model.fit_generator(generator,epochs=1,steps_per_epoch=steps,verbose=1) # Here epochs means how many times we want the batch to pass through current epoch.\n",
    "        model.save(\"./model_weights/model_\"+str(i)+'.h5')"
   ]
  },
  {
   "cell_type": "code",
   "execution_count": null,
   "id": "f4d8e484",
   "metadata": {},
   "outputs": [],
   "source": [
    "train()"
   ]
  },
  {
   "cell_type": "code",
   "execution_count": null,
   "id": "17d416ba",
   "metadata": {},
   "outputs": [],
   "source": [
    "from keras.models import load_model"
   ]
  },
  {
   "cell_type": "code",
   "execution_count": null,
   "id": "3a15a3e5",
   "metadata": {},
   "outputs": [],
   "source": [
    "model= load_model('./model_weights/model_9.h5')"
   ]
  },
  {
   "cell_type": "code",
   "execution_count": null,
   "id": "726895da",
   "metadata": {},
   "outputs": [],
   "source": [
    "def predict_caption(photo):\n",
    "  in_text = \"startseq\"\n",
    "  for i in range(max_len):\n",
    "    sequence = [word_to_idx[w] for w in in_text.split() if w in word_to_idx]\n",
    "    sequence = preprocessing.sequence.pad_sequences([sequence],maxlen=max_len,padding='post')\n",
    "\n",
    "    ypred = model.predict([photo,sequence])\n",
    "    ypred = ypred.argmax() # Word with max prob always --> Greedy Sampling\n",
    "    word = idx_to_word[ypred]\n",
    "    in_text += (' '+word)\n",
    "\n",
    "    if word == 'endseq':\n",
    "      break\n",
    "\n",
    "  final_caption = in_text.split()[1:-1] # Ignore first and last words.\n",
    "  final_caption = ' '.join(final_caption)\n",
    "\n",
    "  return final_caption"
   ]
  },
  {
   "cell_type": "code",
   "execution_count": null,
   "id": "01522b1c",
   "metadata": {},
   "outputs": [],
   "source": [
    "# Pick some Random Images and See Results\n",
    "for i in range(15):\n",
    "  idx = np.random.randint(0,1000) # Generate a random number between 0 and 1000.\n",
    "  all_img_names = list(encoding_test.keys())\n",
    "  img_name = all_img_names[idx]\n",
    "  photo_2048 = encoding_test[img_name].reshape((1,2048))\n",
    "  caption = predict_caption(photo_2048)\n",
    "  i = plt.imread(\"./Data/archive/Flickr_Data/Flickr_Data/Images/\"+img_name+\".jpg\")\n",
    "  plt.imshow(i)\n",
    "  plt.axis(\"off\")\n",
    "  plt.show()\n",
    "  print(caption)"
   ]
  }
 ],
 "metadata": {
  "kernelspec": {
   "display_name": "Python 3 (ipykernel)",
   "language": "python",
   "name": "python3"
  },
  "language_info": {
   "codemirror_mode": {
    "name": "ipython",
    "version": 3
   },
   "file_extension": ".py",
   "mimetype": "text/x-python",
   "name": "python",
   "nbconvert_exporter": "python",
   "pygments_lexer": "ipython3",
   "version": "3.8.10"
  }
 },
 "nbformat": 4,
 "nbformat_minor": 5
}
